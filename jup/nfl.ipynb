{
 "cells": [
  {
   "cell_type": "code",
   "execution_count": 104,
   "metadata": {},
   "outputs": [],
   "source": [
    "import requests\n",
    "import urllib.request\n",
    "import time\n",
    "from bs4 import BeautifulSoup\n",
    "import pandas as pd"
   ]
  },
  {
   "cell_type": "code",
   "execution_count": 122,
   "metadata": {},
   "outputs": [],
   "source": [
    "rushCategory = \"rushing\""
   ]
  },
  {
   "cell_type": "code",
   "execution_count": 123,
   "metadata": {},
   "outputs": [],
   "source": [
    "baseUrl = \"https://www.nfl.com\"\n",
    "url = 'https://www.nfl.com/stats/player-stats/category/'\n",
    "payload = {\"statisticCategory\":\"rushing\",\"season\":\"2019\",\"seasonType\":\"REG\",\"list\":\"all\",\n",
    "           \"specificCategory\":\"rushingYards\",\"order\":\"DESC\"}\n",
    "\n",
    "for key in payload:\n",
    "    url += payload[key]\n",
    "    url += '/'\n",
    "response = requests.get(url)"
   ]
  },
  {
   "cell_type": "code",
   "execution_count": 124,
   "metadata": {},
   "outputs": [
    {
     "name": "stdout",
     "output_type": "stream",
     "text": [
      "200 https://www.nfl.com/stats/player-stats/category/rushing/2019/reg/all/rushingyards/desc\n"
     ]
    }
   ],
   "source": [
    "print(response.status_code,response.url)"
   ]
  },
  {
   "cell_type": "code",
   "execution_count": 125,
   "metadata": {},
   "outputs": [],
   "source": [
    "soup = BeautifulSoup(response.text,'html.parser')"
   ]
  },
  {
   "cell_type": "code",
   "execution_count": null,
   "metadata": {},
   "outputs": [],
   "source": []
  },
  {
   "cell_type": "code",
   "execution_count": 109,
   "metadata": {},
   "outputs": [],
   "source": [
    "# pagingText = soup.find(\"span\", {\"class\": \"linkNavigation floatRight\"})\n",
    "\n",
    "# pagingLinks = pagingText.findAll(\"a\")\n",
    "# pages= len(pagingLinks)\n",
    "# print(pages)"
   ]
  },
  {
   "cell_type": "code",
   "execution_count": 126,
   "metadata": {},
   "outputs": [],
   "source": [
    "columnHeader = []\n",
    "header = soup.find('table').find_all('th')\n",
    "for col in header:\n",
    "    columnHeader.append(col.text)\n",
    "columnHeader = [c.strip('\\n') for c in columnHeader]"
   ]
  },
  {
   "cell_type": "code",
   "execution_count": null,
   "metadata": {},
   "outputs": [
    {
     "name": "stdout",
     "output_type": "stream",
     "text": [
      "url: https://www.nfl.com/stats/player-stats/category/rushing/2019/reg/all/rushingyards/desc\n",
      "url: https://www.nfl.com/stats/player-stats/category/rushing/2019/REG/all/rushingYards/DESC?aftercursor=0000001900000000008500100079000840883800000000006e00000005000000045f74626c00000010706572736f6e5f7465616d5f737461740000000565736249640000000953494e31383639313900000004726f6c6500000003504c5900000008736561736f6e496400000004323031390000000a736561736f6e5479706500000003524547f07fffffe6f07fffffe691de5008d799f9ba761cb0a998ca30040004\n",
      "url: https://www.nfl.com/stats/player-stats/category/rushing/2019/REG/all/rushingYards/DESC?aftercursor=0000003200000000008500100079000840793000000000006e00000005000000045f74626c00000010706572736f6e5f7465616d5f73746174000000056573624964000000094a4f4833393931383800000004726f6c6500000003504c5900000008736561736f6e496400000004323031390000000a736561736f6e5479706500000003524547f07fffffcdf07fffffcd75bd852c8248425583f5246940da9d5d0004\n",
      "url: https://www.nfl.com/stats/player-stats/category/rushing/2019/REG/all/rushingYards/DESC?aftercursor=0000004b000000000085001000790008406c2000000000006e00000005000000045f74626c00000010706572736f6e5f7465616d5f737461740000000565736249640000000948494c33323633303100000004726f6c6500000003504c5900000008736561736f6e496400000004323031390000000a736561736f6e5479706500000003524547f07fffffb4f07fffffb46c57d73d1a41485d2cb3833eed3d21a50004\n",
      "url: https://www.nfl.com/stats/player-stats/category/rushing/2019/REG/all/rushingYards/DESC?aftercursor=000000640000000000850010007900084060e000000000006e00000005000000045f74626c00000010706572736f6e5f7465616d5f737461740000000565736249640000000942414c36303836373700000004726f6c6500000003504c5900000008736561736f6e496400000004323031390000000a736561736f6e5479706500000003524547f07fffff9bf07fffff9bb76a5e54257e966e9a2585b4975f80720004\n",
      "url: https://www.nfl.com/stats/player-stats/category/rushing/2019/REG/all/rushingYards/DESC?aftercursor=0000007d00000000008500100079000840534000000000006e00000005000000045f74626c00000010706572736f6e5f7465616d5f737461740000000565736249640000000946494e34313232363900000004726f6c6500000003504c5900000008736561736f6e496400000004323031390000000a736561736f6e5479706500000003524547f07fffff82f07fffff82de6b4c2083cad60d82a2a9cb9a4fbc840004\n",
      "url: https://www.nfl.com/stats/player-stats/category/rushing/2019/REG/all/rushingYards/DESC?aftercursor=0000009600000000008500100079000840488000000000006e00000005000000045f74626c00000010706572736f6e5f7465616d5f737461740000000565736249640000000948494c37313435333600000004726f6c6500000003504c5900000008736561736f6e496400000004323031390000000a736561736f6e5479706500000003524547f07fffff69f07fffff694c756761f847d11f3350d9467b29a87a0004\n",
      "url: https://www.nfl.com/stats/player-stats/category/rushing/2019/REG/all/rushingYards/DESC?aftercursor=000000af000000000085001000790008403d0000000000006e00000005000000045f74626c00000010706572736f6e5f7465616d5f737461740000000565736249640000000952495636353136333400000004726f6c6500000003504c5900000008736561736f6e496400000004323031390000000a736561736f6e5479706500000003524547f07fffff50f07fffff5074f74fd066b8464b3239bcb673402b4c0004\n"
     ]
    }
   ],
   "source": [
    "tableRows = []\n",
    "while pagingText:\n",
    "    time.sleep(2)\n",
    "    response = requests.get(url)\n",
    "    print(\"url:\",response.url)\n",
    "    soup = BeautifulSoup(response.text,'html.parser')\n",
    "    table = soup.find('table')\n",
    "    rows = table.find_all('tr')\n",
    "\n",
    "    for row in rows:\n",
    "        cols = row.find_all('td')\n",
    "        if cols:\n",
    "            cols = [ele.text.strip() for ele in cols]\n",
    "            tableRows.append([ele for ele in cols if ele]) # Get rid of empty values\n",
    "    pagingText = soup.find(\"a\", {\"class\": \"nfl-o-table-pagination__next\"})\n",
    "    if pagingText:\n",
    "        url = baseUrl + pagingText.get('href')"
   ]
  },
  {
   "cell_type": "code",
   "execution_count": null,
   "metadata": {},
   "outputs": [],
   "source": []
  },
  {
   "cell_type": "code",
   "execution_count": 115,
   "metadata": {},
   "outputs": [
    {
     "name": "stdout",
     "output_type": "stream",
     "text": [
      "[['Marqise Lee', '1', '1', '0', '0', '0', '1', '0', '0', '0'], ['Andy Janovich', '1', '1', '1', '0', '0', '1', '1', '1', '0'], ['Adam Humphries', '1', '1', '0', '0', '0', '1', '0', '0', '0'], ['Josh Gordon', '1', '1', '0', '0', '0', '1', '0', '0', '0']]\n"
     ]
    }
   ],
   "source": [
    "print(tableRows)"
   ]
  },
  {
   "cell_type": "code",
   "execution_count": 116,
   "metadata": {},
   "outputs": [
    {
     "data": {
      "text/html": [
       "<div>\n",
       "<style scoped>\n",
       "    .dataframe tbody tr th:only-of-type {\n",
       "        vertical-align: middle;\n",
       "    }\n",
       "\n",
       "    .dataframe tbody tr th {\n",
       "        vertical-align: top;\n",
       "    }\n",
       "\n",
       "    .dataframe thead th {\n",
       "        text-align: right;\n",
       "    }\n",
       "</style>\n",
       "<table border=\"1\" class=\"dataframe\">\n",
       "  <thead>\n",
       "    <tr style=\"text-align: right;\">\n",
       "      <th></th>\n",
       "      <th>Player</th>\n",
       "      <th>Rush Yds</th>\n",
       "      <th>Att</th>\n",
       "      <th>TD</th>\n",
       "      <th>20+</th>\n",
       "      <th>40+</th>\n",
       "      <th>Lng</th>\n",
       "      <th>Rush 1st</th>\n",
       "      <th>Rush 1st%</th>\n",
       "      <th>Rush FUM</th>\n",
       "    </tr>\n",
       "  </thead>\n",
       "  <tbody>\n",
       "    <tr>\n",
       "      <th>0</th>\n",
       "      <td>Marqise Lee</td>\n",
       "      <td>1</td>\n",
       "      <td>1</td>\n",
       "      <td>0</td>\n",
       "      <td>0</td>\n",
       "      <td>0</td>\n",
       "      <td>1</td>\n",
       "      <td>0</td>\n",
       "      <td>0</td>\n",
       "      <td>0</td>\n",
       "    </tr>\n",
       "    <tr>\n",
       "      <th>1</th>\n",
       "      <td>Andy Janovich</td>\n",
       "      <td>1</td>\n",
       "      <td>1</td>\n",
       "      <td>1</td>\n",
       "      <td>0</td>\n",
       "      <td>0</td>\n",
       "      <td>1</td>\n",
       "      <td>1</td>\n",
       "      <td>1</td>\n",
       "      <td>0</td>\n",
       "    </tr>\n",
       "    <tr>\n",
       "      <th>2</th>\n",
       "      <td>Adam Humphries</td>\n",
       "      <td>1</td>\n",
       "      <td>1</td>\n",
       "      <td>0</td>\n",
       "      <td>0</td>\n",
       "      <td>0</td>\n",
       "      <td>1</td>\n",
       "      <td>0</td>\n",
       "      <td>0</td>\n",
       "      <td>0</td>\n",
       "    </tr>\n",
       "    <tr>\n",
       "      <th>3</th>\n",
       "      <td>Josh Gordon</td>\n",
       "      <td>1</td>\n",
       "      <td>1</td>\n",
       "      <td>0</td>\n",
       "      <td>0</td>\n",
       "      <td>0</td>\n",
       "      <td>1</td>\n",
       "      <td>0</td>\n",
       "      <td>0</td>\n",
       "      <td>0</td>\n",
       "    </tr>\n",
       "  </tbody>\n",
       "</table>\n",
       "</div>"
      ],
      "text/plain": [
       "           Player Rush Yds Att TD 20+ 40+ Lng Rush 1st Rush 1st% Rush FUM\n",
       "0     Marqise Lee        1   1  0   0   0   1        0         0        0\n",
       "1   Andy Janovich        1   1  1   0   0   1        1         1        0\n",
       "2  Adam Humphries        1   1  0   0   0   1        0         0        0\n",
       "3     Josh Gordon        1   1  0   0   0   1        0         0        0"
      ]
     },
     "execution_count": 116,
     "metadata": {},
     "output_type": "execute_result"
    }
   ],
   "source": [
    "resultsDf = pd.DataFrame(tableRows, columns=columnHeader)\n",
    "resultsDf"
   ]
  }
 ],
 "metadata": {
  "kernelspec": {
   "display_name": "Python 3",
   "language": "python",
   "name": "python3"
  },
  "language_info": {
   "codemirror_mode": {
    "name": "ipython",
    "version": 3
   },
   "file_extension": ".py",
   "mimetype": "text/x-python",
   "name": "python",
   "nbconvert_exporter": "python",
   "pygments_lexer": "ipython3",
   "version": "3.7.6"
  }
 },
 "nbformat": 4,
 "nbformat_minor": 4
}
